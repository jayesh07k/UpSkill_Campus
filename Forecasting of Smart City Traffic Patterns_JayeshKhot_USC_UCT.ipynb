{
 "cells": [
  {
   "cell_type": "code",
   "execution_count": null,
   "metadata": {
    "_cell_guid": "1558075e-6d9a-4854-83c7-8063595893d3",
    "_uuid": "5084de8bf0da7028a3a8a0214d6ede184c210d38",
    "execution": {
     "iopub.execute_input": "2022-05-28T16:11:12.564333Z",
     "iopub.status.busy": "2022-05-28T16:11:12.563981Z",
     "iopub.status.idle": "2022-05-28T16:11:12.591394Z",
     "shell.execute_reply": "2022-05-28T16:11:12.590318Z",
     "shell.execute_reply.started": "2022-05-28T16:11:12.564272Z"
    }
   },
   "outputs": [],
   "source": [
    "import numpy as np \n",
    "import pandas as pd "
   ]
  },
  {
   "cell_type": "code",
   "execution_count": null,
   "metadata": {
    "execution": {
     "iopub.execute_input": "2022-05-28T16:11:12.592801Z",
     "iopub.status.busy": "2022-05-28T16:11:12.592525Z",
     "iopub.status.idle": "2022-05-28T16:11:12.597219Z",
     "shell.execute_reply": "2022-05-28T16:11:12.596269Z",
     "shell.execute_reply.started": "2022-05-28T16:11:12.592759Z"
    }
   },
   "outputs": [],
   "source": [
    "import matplotlib.pyplot as plt"
   ]
  },
  {
   "cell_type": "code",
   "execution_count": null,
   "metadata": {
    "_cell_guid": "85387a1b-d2b6-49cf-9ca9-571781c62f99",
    "_uuid": "e124dca8fb995d66210a50b7f37f56043c616d06",
    "execution": {
     "iopub.execute_input": "2022-05-28T16:11:12.599087Z",
     "iopub.status.busy": "2022-05-28T16:11:12.598728Z",
     "iopub.status.idle": "2022-05-28T16:11:12.716703Z",
     "shell.execute_reply": "2022-05-28T16:11:12.71565Z",
     "shell.execute_reply.started": "2022-05-28T16:11:12.599018Z"
    }
   },
   "outputs": [],
   "source": [
    "df_train = pd.read_csv('train_aWnotuB.csv',parse_dates=[0],infer_datetime_format=True)\n",
    "df_test = pd.read_csv('test_BdBKkAj.csv',parse_dates=[0],infer_datetime_format=True)"
   ]
  },
  {
   "cell_type": "code",
   "execution_count": null,
   "metadata": {
    "execution": {
     "iopub.execute_input": "2022-05-28T16:11:12.718189Z",
     "iopub.status.busy": "2022-05-28T16:11:12.717952Z",
     "iopub.status.idle": "2022-05-28T16:11:12.743883Z",
     "shell.execute_reply": "2022-05-28T16:11:12.742861Z",
     "shell.execute_reply.started": "2022-05-28T16:11:12.718155Z"
    }
   },
   "outputs": [],
   "source": [
    "print(\"Size of training set: \"+ str(df_train.shape))\n",
    "print(\"Size of test set: \"+ str(df_test.shape))\n",
    "print('\\n')\n",
    "print('columns in train: '+str(df_train.columns.tolist()))\n",
    "print('columns in test: '+str(df_test.columns.tolist()))\n",
    "\n",
    "df_train.head()"
   ]
  },
  {
   "cell_type": "markdown",
   "metadata": {},
   "source": [
    "#  EDA"
   ]
  },
  {
   "cell_type": "code",
   "execution_count": null,
   "metadata": {
    "execution": {
     "iopub.execute_input": "2022-05-28T16:11:12.746141Z",
     "iopub.status.busy": "2022-05-28T16:11:12.745748Z",
     "iopub.status.idle": "2022-05-28T16:11:12.768682Z",
     "shell.execute_reply": "2022-05-28T16:11:12.767698Z",
     "shell.execute_reply.started": "2022-05-28T16:11:12.746056Z"
    }
   },
   "outputs": [],
   "source": [
    "df_tmp = df_train.set_index(['Junction','DateTime'])"
   ]
  },
  {
   "cell_type": "code",
   "execution_count": null,
   "metadata": {
    "execution": {
     "iopub.execute_input": "2022-05-28T16:11:12.770081Z",
     "iopub.status.busy": "2022-05-28T16:11:12.769843Z",
     "iopub.status.idle": "2022-05-28T16:11:12.773731Z",
     "shell.execute_reply": "2022-05-28T16:11:12.77278Z",
     "shell.execute_reply.started": "2022-05-28T16:11:12.770039Z"
    }
   },
   "outputs": [],
   "source": [
    "level_values = df_tmp.index.get_level_values"
   ]
  },
  {
   "cell_type": "code",
   "execution_count": null,
   "metadata": {
    "execution": {
     "iopub.execute_input": "2022-05-28T16:11:12.774962Z",
     "iopub.status.busy": "2022-05-28T16:11:12.774736Z",
     "iopub.status.idle": "2022-05-28T16:11:12.842822Z",
     "shell.execute_reply": "2022-05-28T16:11:12.841892Z",
     "shell.execute_reply.started": "2022-05-28T16:11:12.774929Z"
    }
   },
   "outputs": [],
   "source": [
    "time_targets = df_tmp.groupby([level_values(0)] + [pd.Grouper(freq='1M', level=-1)])['Vehicles'].sum()\n",
    "time_targets"
   ]
  },
  {
   "cell_type": "code",
   "execution_count": null,
   "metadata": {
    "execution": {
     "iopub.execute_input": "2022-05-28T16:11:12.844784Z",
     "iopub.status.busy": "2022-05-28T16:11:12.844247Z",
     "iopub.status.idle": "2022-05-28T16:11:12.849807Z",
     "shell.execute_reply": "2022-05-28T16:11:12.848834Z",
     "shell.execute_reply.started": "2022-05-28T16:11:12.844723Z"
    }
   },
   "outputs": [],
   "source": [
    "del df_tmp\n",
    "del time_targets"
   ]
  },
  {
   "cell_type": "markdown",
   "metadata": {},
   "source": [
    "## lag_features"
   ]
  },
  {
   "cell_type": "code",
   "execution_count": null,
   "metadata": {
    "execution": {
     "iopub.execute_input": "2022-05-28T16:11:12.851746Z",
     "iopub.status.busy": "2022-05-28T16:11:12.85124Z",
     "iopub.status.idle": "2022-05-28T16:11:12.916561Z",
     "shell.execute_reply": "2022-05-28T16:11:12.915655Z",
     "shell.execute_reply.started": "2022-05-28T16:11:12.851688Z"
    }
   },
   "outputs": [],
   "source": [
    "train = df_train.pivot(index='DateTime', columns='Junction', values='Vehicles')\n",
    "train"
   ]
  },
  {
   "cell_type": "code",
   "execution_count": null,
   "metadata": {
    "execution": {
     "iopub.execute_input": "2022-05-28T16:11:12.918155Z",
     "iopub.status.busy": "2022-05-28T16:11:12.917905Z",
     "iopub.status.idle": "2022-05-28T16:11:12.927041Z",
     "shell.execute_reply": "2022-05-28T16:11:12.92617Z",
     "shell.execute_reply.started": "2022-05-28T16:11:12.918113Z"
    }
   },
   "outputs": [],
   "source": [
    "train.isnull().sum()"
   ]
  },
  {
   "cell_type": "code",
   "execution_count": null,
   "metadata": {
    "execution": {
     "iopub.execute_input": "2022-05-28T16:11:12.928959Z",
     "iopub.status.busy": "2022-05-28T16:11:12.9284Z",
     "iopub.status.idle": "2022-05-28T16:11:12.945091Z",
     "shell.execute_reply": "2022-05-28T16:11:12.944136Z",
     "shell.execute_reply.started": "2022-05-28T16:11:12.928897Z"
    }
   },
   "outputs": [],
   "source": [
    "train.info()"
   ]
  },
  {
   "cell_type": "code",
   "execution_count": null,
   "metadata": {
    "execution": {
     "iopub.execute_input": "2022-05-28T16:11:12.94765Z",
     "iopub.status.busy": "2022-05-28T16:11:12.946956Z",
     "iopub.status.idle": "2022-05-28T16:11:12.958139Z",
     "shell.execute_reply": "2022-05-28T16:11:12.957262Z",
     "shell.execute_reply.started": "2022-05-28T16:11:12.947514Z"
    }
   },
   "outputs": [],
   "source": [
    "value=round(train[4].max())/1.0\n",
    "value"
   ]
  },
  {
   "cell_type": "code",
   "execution_count": null,
   "metadata": {
    "execution": {
     "iopub.execute_input": "2022-05-28T16:11:12.960532Z",
     "iopub.status.busy": "2022-05-28T16:11:12.95982Z",
     "iopub.status.idle": "2022-05-28T16:11:12.970668Z",
     "shell.execute_reply": "2022-05-28T16:11:12.969598Z",
     "shell.execute_reply.started": "2022-05-28T16:11:12.960465Z"
    }
   },
   "outputs": [],
   "source": [
    "train = train.fillna(value)"
   ]
  },
  {
   "cell_type": "code",
   "execution_count": null,
   "metadata": {
    "execution": {
     "iopub.execute_input": "2022-05-28T16:11:12.973598Z",
     "iopub.status.busy": "2022-05-28T16:11:12.973256Z",
     "iopub.status.idle": "2022-05-28T16:11:13.014254Z",
     "shell.execute_reply": "2022-05-28T16:11:13.013366Z",
     "shell.execute_reply.started": "2022-05-28T16:11:12.973541Z"
    }
   },
   "outputs": [],
   "source": [
    "def gen_lag_features(df, n_in=1,n_out=1,dropnan=True):\n",
    "    n_vars = df.shape[1]\n",
    "    cols, names = list(), list()\n",
    "    #input sequence (t-n,.....t-1)\n",
    "    for i in range(n_in,0,-1):\n",
    "        cols.append(df.shift(i))\n",
    "        names+=[('Junction %d (H-%d)' %(j+1, i)) for j in range(n_vars)]\n",
    "    # forecast sequence (t,t+1,.....t+n)\n",
    "    for i in range(0,n_out):\n",
    "        cols.append(df.shift(-i))\n",
    "        if i == 0:\n",
    "            names+=[('Junction %d (H)' %(j+1)) for j in range(n_vars)]\n",
    "        else:\n",
    "            names+=[('Junction %d (H+%d)' %(j+1,i)) for j in range(n_vars)]\n",
    "    #put it all together\n",
    "    agg = pd.concat(cols,axis=1)\n",
    "    agg.columns = names\n",
    "    # drop rows with NaN values\n",
    "    if dropnan:\n",
    "        agg.dropna(inplace=True)\n",
    "    return agg"
   ]
  },
  {
   "cell_type": "code",
   "execution_count": null,
   "metadata": {
    "execution": {
     "iopub.execute_input": "2022-05-28T16:11:13.016016Z",
     "iopub.status.busy": "2022-05-28T16:11:13.015574Z",
     "iopub.status.idle": "2022-05-28T16:11:13.074561Z",
     "shell.execute_reply": "2022-05-28T16:11:13.073773Z",
     "shell.execute_reply.started": "2022-05-28T16:11:13.015972Z"
    }
   },
   "outputs": [],
   "source": [
    "Xy_train= gen_lag_features(train)\n",
    "Xy_train"
   ]
  },
  {
   "cell_type": "code",
   "execution_count": null,
   "metadata": {
    "execution": {
     "iopub.execute_input": "2022-05-28T16:11:13.076031Z",
     "iopub.status.busy": "2022-05-28T16:11:13.075765Z",
     "iopub.status.idle": "2022-05-28T16:11:13.982631Z",
     "shell.execute_reply": "2022-05-28T16:11:13.981814Z",
     "shell.execute_reply.started": "2022-05-28T16:11:13.075979Z"
    }
   },
   "outputs": [],
   "source": [
    "from sklearn.preprocessing import MinMaxScaler, StandardScaler\n",
    "scaler = MinMaxScaler(feature_range=(0,1))\n",
    "Xy_train[Xy_train.columns]= scaler.fit_transform(Xy_train[Xy_train.columns])\n",
    "\n",
    "Xy_train"
   ]
  },
  {
   "cell_type": "markdown",
   "metadata": {},
   "source": [
    "# Split train and valid it"
   ]
  },
  {
   "cell_type": "code",
   "execution_count": null,
   "metadata": {
    "execution": {
     "iopub.execute_input": "2022-05-28T16:11:13.984189Z",
     "iopub.status.busy": "2022-05-28T16:11:13.9839Z",
     "iopub.status.idle": "2022-05-28T16:11:14.012562Z",
     "shell.execute_reply": "2022-05-28T16:11:14.011865Z",
     "shell.execute_reply.started": "2022-05-28T16:11:13.984137Z"
    }
   },
   "outputs": [],
   "source": [
    "X_train = Xy_train[Xy_train.index < '2017-04-01'].iloc[:,0:4]\n",
    "X_train"
   ]
  },
  {
   "cell_type": "code",
   "execution_count": null,
   "metadata": {
    "execution": {
     "iopub.execute_input": "2022-05-28T16:11:14.014041Z",
     "iopub.status.busy": "2022-05-28T16:11:14.01361Z",
     "iopub.status.idle": "2022-05-28T16:11:14.05096Z",
     "shell.execute_reply": "2022-05-28T16:11:14.050175Z",
     "shell.execute_reply.started": "2022-05-28T16:11:14.014001Z"
    }
   },
   "outputs": [],
   "source": [
    "y_train= Xy_train[Xy_train.index < '2017-04-01'].iloc[:,4:]\n",
    "y_train"
   ]
  },
  {
   "cell_type": "code",
   "execution_count": null,
   "metadata": {
    "execution": {
     "iopub.execute_input": "2022-05-28T16:11:14.052327Z",
     "iopub.status.busy": "2022-05-28T16:11:14.051967Z",
     "iopub.status.idle": "2022-05-28T16:11:14.057661Z",
     "shell.execute_reply": "2022-05-28T16:11:14.056585Z",
     "shell.execute_reply.started": "2022-05-28T16:11:14.052287Z"
    }
   },
   "outputs": [],
   "source": [
    "print(X_train.shape, y_train.shape)"
   ]
  },
  {
   "cell_type": "code",
   "execution_count": null,
   "metadata": {
    "execution": {
     "iopub.execute_input": "2022-05-28T16:11:14.059167Z",
     "iopub.status.busy": "2022-05-28T16:11:14.058932Z",
     "iopub.status.idle": "2022-05-28T16:11:14.073763Z",
     "shell.execute_reply": "2022-05-28T16:11:14.072923Z",
     "shell.execute_reply.started": "2022-05-28T16:11:14.059125Z"
    }
   },
   "outputs": [],
   "source": [
    "X_train = np.expand_dims(X_train.values,axis=2)\n",
    "print(X_train.shape)\n",
    "\n",
    "y_train= y_train.values\n",
    "print(y_train.shape)"
   ]
  },
  {
   "cell_type": "markdown",
   "metadata": {},
   "source": [
    "## modeling the dataset using RNN"
   ]
  },
  {
   "cell_type": "code",
   "execution_count": null,
   "metadata": {
    "execution": {
     "iopub.execute_input": "2022-05-28T16:11:16.904513Z",
     "iopub.status.busy": "2022-05-28T16:11:16.904239Z",
     "iopub.status.idle": "2022-05-28T16:11:17.28132Z",
     "shell.execute_reply": "2022-05-28T16:11:17.280585Z",
     "shell.execute_reply.started": "2022-05-28T16:11:16.904463Z"
    }
   },
   "outputs": [],
   "source": [
    "# Initialising the RNN\n",
    "regressor= Sequential()\n",
    "\n",
    "#Adding the input layer and the LSTM layer\n",
    "regressor.add(LSTM(units = 50,activation='relu',kernel_initializer= he_normal(seed=0),input_shape=(None,1)))\n",
    "\n",
    "#output for 4 junctions\n",
    "regressor.add(Dense(units=4))\n",
    "\n",
    "#Compiling the RNN\n",
    "regressor.compile(optimizer='adam',loss= root_mean_squared_error)"
   ]
  },
  {
   "cell_type": "code",
   "execution_count": null,
   "metadata": {
    "execution": {
     "iopub.execute_input": "2022-05-28T16:11:14.075464Z",
     "iopub.status.busy": "2022-05-28T16:11:14.075183Z",
     "iopub.status.idle": "2022-05-28T16:11:16.90287Z",
     "shell.execute_reply": "2022-05-28T16:11:16.902011Z",
     "shell.execute_reply.started": "2022-05-28T16:11:14.075403Z"
    }
   },
   "outputs": [],
   "source": [
    "from keras.models import Sequential\n",
    "from keras.layers import Dense\n",
    "from keras.layers import LSTM\n",
    "from keras.initializers import he_normal\n",
    "import keras.backend as K\n",
    "\n",
    "def root_mean_squared_error(y_true,y_pred):\n",
    "    return K.sqrt(K.mean(K.square(y_pred - y_true), axis=-1))"
   ]
  },
  {
   "cell_type": "code",
   "execution_count": null,
   "metadata": {
    "execution": {
     "iopub.execute_input": "2022-05-28T16:11:17.282798Z",
     "iopub.status.busy": "2022-05-28T16:11:17.282503Z",
     "iopub.status.idle": "2022-05-28T16:12:29.560931Z",
     "shell.execute_reply": "2022-05-28T16:12:29.559982Z",
     "shell.execute_reply.started": "2022-05-28T16:11:17.282755Z"
    }
   },
   "outputs": [],
   "source": [
    "# Fitting the RNN to the Training set\n",
    "regressor.fit(X_train,y_train,batch_size=120,epochs=100,verbose=1)"
   ]
  },
  {
   "cell_type": "markdown",
   "metadata": {},
   "source": [
    "# Validate the model"
   ]
  },
  {
   "cell_type": "code",
   "execution_count": null,
   "metadata": {
    "execution": {
     "iopub.execute_input": "2022-05-28T16:12:29.562815Z",
     "iopub.status.busy": "2022-05-28T16:12:29.562469Z",
     "iopub.status.idle": "2022-05-28T16:12:29.593391Z",
     "shell.execute_reply": "2022-05-28T16:12:29.592807Z",
     "shell.execute_reply.started": "2022-05-28T16:12:29.56275Z"
    }
   },
   "outputs": [],
   "source": [
    "X_valid = Xy_train[Xy_train.index >='2017-04-01'].iloc[:,0:4]\n",
    "X_valid"
   ]
  },
  {
   "cell_type": "code",
   "execution_count": null,
   "metadata": {
    "execution": {
     "iopub.execute_input": "2022-05-28T16:12:29.595054Z",
     "iopub.status.busy": "2022-05-28T16:12:29.594592Z",
     "iopub.status.idle": "2022-05-28T16:12:29.759356Z",
     "shell.execute_reply": "2022-05-28T16:12:29.75873Z",
     "shell.execute_reply.started": "2022-05-28T16:12:29.595011Z"
    }
   },
   "outputs": [],
   "source": [
    "X_valid=np.expand_dims(X_valid.values,axis=2)\n",
    "y_pred= regressor.predict(X_valid) "
   ]
  },
  {
   "cell_type": "code",
   "execution_count": null,
   "metadata": {
    "execution": {
     "iopub.execute_input": "2022-05-28T16:12:29.760886Z",
     "iopub.status.busy": "2022-05-28T16:12:29.760464Z",
     "iopub.status.idle": "2022-05-28T16:12:29.769972Z",
     "shell.execute_reply": "2022-05-28T16:12:29.768891Z",
     "shell.execute_reply.started": "2022-05-28T16:12:29.760834Z"
    }
   },
   "outputs": [],
   "source": [
    "# we rescale y in the integer count range\n",
    "# to do that we must first reconcatenate with the X data as scaler expects a shape of 8\n",
    "\n",
    "y_pred = scaler.inverse_transform(np.concatenate((X_valid.squeeze(), y_pred),axis=1))[:,4:]\n",
    "y_pred"
   ]
  },
  {
   "cell_type": "code",
   "execution_count": null,
   "metadata": {
    "execution": {
     "iopub.execute_input": "2022-05-28T16:12:29.771584Z",
     "iopub.status.busy": "2022-05-28T16:12:29.771206Z",
     "iopub.status.idle": "2022-05-28T16:12:29.80679Z",
     "shell.execute_reply": "2022-05-28T16:12:29.805977Z",
     "shell.execute_reply.started": "2022-05-28T16:12:29.771525Z"
    }
   },
   "outputs": [],
   "source": [
    "y_truth= train[train.index >= '2017-04-01']\n",
    "y_truth"
   ]
  },
  {
   "cell_type": "markdown",
   "metadata": {},
   "source": [
    "# Data visualization"
   ]
  },
  {
   "cell_type": "code",
   "execution_count": null,
   "metadata": {
    "execution": {
     "iopub.execute_input": "2022-05-28T16:12:29.808261Z",
     "iopub.status.busy": "2022-05-28T16:12:29.808013Z",
     "iopub.status.idle": "2022-05-28T16:12:30.514775Z",
     "shell.execute_reply": "2022-05-28T16:12:30.513793Z",
     "shell.execute_reply.started": "2022-05-28T16:12:29.808219Z"
    }
   },
   "outputs": [],
   "source": [
    "# Visualising Result for the junctions\n",
    "for junction in range(4):\n",
    "    plt.figure\n",
    "    plt.plot(y_truth.values[:,junction],color='green', label='Real traffic')\n",
    "    plt.plot(y_pred[:,junction],color='red',label ='Predicted traffic')\n",
    "    plt.title('Traffic Forecasting at junction %i' % (junction+1))\n",
    "    plt.xlabel('Number of hours from Start')\n",
    "    plt.ylabel('Traffic')\n",
    "    plt.legend()\n",
    "    plt.show()"
   ]
  },
  {
   "cell_type": "code",
   "execution_count": null,
   "metadata": {
    "execution": {
     "iopub.execute_input": "2022-05-28T16:12:30.516348Z",
     "iopub.status.busy": "2022-05-28T16:12:30.516071Z",
     "iopub.status.idle": "2022-05-28T16:12:30.551279Z",
     "shell.execute_reply": "2022-05-28T16:12:30.550603Z",
     "shell.execute_reply.started": "2022-05-28T16:12:30.516297Z"
    }
   },
   "outputs": [],
   "source": [
    "from sklearn.metrics import mean_squared_error\n",
    "from math import sqrt\n",
    "\n",
    "def rmse(y_true,y_pred):\n",
    "    return sqrt(mean_squared_error(y_true, y_pred))"
   ]
  },
  {
   "cell_type": "code",
   "execution_count": null,
   "metadata": {
    "execution": {
     "iopub.execute_input": "2022-05-28T16:12:30.55308Z",
     "iopub.status.busy": "2022-05-28T16:12:30.552822Z",
     "iopub.status.idle": "2022-05-28T16:12:30.560562Z",
     "shell.execute_reply": "2022-05-28T16:12:30.559661Z",
     "shell.execute_reply.started": "2022-05-28T16:12:30.553038Z"
    }
   },
   "outputs": [],
   "source": [
    "rmse(y_truth,y_pred)"
   ]
  },
  {
   "cell_type": "code",
   "execution_count": null,
   "metadata": {
    "execution": {
     "iopub.execute_input": "2022-05-28T16:12:30.56239Z",
     "iopub.status.busy": "2022-05-28T16:12:30.56215Z",
     "iopub.status.idle": "2022-05-28T16:12:30.925359Z",
     "shell.execute_reply": "2022-05-28T16:12:30.924607Z",
     "shell.execute_reply.started": "2022-05-28T16:12:30.562356Z"
    }
   },
   "outputs": [],
   "source": [
    "import pandas as pd\n",
    "import numpy as np\n",
    "trdf = pd.read_csv('../input/train_aWnotuB.csv')\n",
    "trainMat= trdf.as_matrix()\n",
    "tedf = pd.read_csv('../input/test_BdBKkAj.csv')\n",
    "testMat=tedf.as_matrix()\n",
    "train=[]\n",
    "target=[]\n",
    "print(trainMat)\n",
    "for i in trainMat:\n",
    "    s=i[3]\n",
    "    year=s/(10**7)\n",
    "    s=s%(10**7)\n",
    "    month=s/(10**5)\n",
    "    s=s%(10**5)\n",
    "    date=s/(10**3)\n",
    "    s=s%(10**3)\n",
    "    time=s/(10)\n",
    "    s=s%(10)\n",
    "    junction =s\n",
    "    train.append([year,month,date,time,junction])\n",
    "    target.append(i[2])\n",
    "X= np.array(train)\n",
    "y=np.array(target)"
   ]
  },
  {
   "cell_type": "code",
   "execution_count": null,
   "metadata": {
    "execution": {
     "iopub.execute_input": "2022-05-28T16:12:30.927091Z",
     "iopub.status.busy": "2022-05-28T16:12:30.926762Z",
     "iopub.status.idle": "2022-05-28T16:12:31.020038Z",
     "shell.execute_reply": "2022-05-28T16:12:31.019272Z",
     "shell.execute_reply.started": "2022-05-28T16:12:30.927023Z"
    }
   },
   "outputs": [],
   "source": [
    "jun1=[]\n",
    "jun2=[]\n",
    "jun3=[]\n",
    "jun4=[]\n",
    "jun5=[]\n",
    "jun=[jun1,jun2,jun3,jun4,jun5]\n",
    "for i in range(0,len(train),24):\n",
    "    ct=0\n",
    "    for j in range(24):\n",
    "        ct+=target[i+j]\n",
    "    jun[train[i][4]-1].append(ct)\n",
    "jun[3]=[0]*(len(jun[0])-len(jun[3]))+jun[3]\n",
    "print(len(jun[0]),len(jun[1]),len(jun[2]),len(jun[3]))\n",
    "\n",
    "k=7\n",
    "week=[[] for i in range(k)]\n",
    "for i in range(len(jun[1])):\n",
    "    week[i%k].append(jun[1][i])\n",
    "for i in range(k):\n",
    "    print(np.mean(week[i]))\n",
    "hour=[[] for i in range(24)]\n",
    "for i in range(len(jun[0])*24+len(jun[1])*24, len(jun[0])*24+len(jun[1])*24+len(jun[2])*24):\n",
    "    hour[i%24].append(target[i])\n",
    "for i in range(24):\n",
    "    print(np.mean(hour[i]))\n",
    "\n",
    "temp=[-i for i in jun[3]]\n",
    "jun[4]=np.add(jun[2],temp)"
   ]
  },
  {
   "cell_type": "code",
   "execution_count": null,
   "metadata": {
    "execution": {
     "iopub.execute_input": "2022-05-28T16:12:31.021844Z",
     "iopub.status.busy": "2022-05-28T16:12:31.021358Z",
     "iopub.status.idle": "2022-05-28T16:12:31.748613Z",
     "shell.execute_reply": "2022-05-28T16:12:31.747842Z",
     "shell.execute_reply.started": "2022-05-28T16:12:31.021787Z"
    }
   },
   "outputs": [],
   "source": [
    "import matplotlib.pyplot as plt\n",
    "for i in range(len(week)):\n",
    "    plt.plot(week[i],'blue')\n",
    "    plt.show()"
   ]
  },
  {
   "cell_type": "code",
   "execution_count": null,
   "metadata": {
    "execution": {
     "iopub.execute_input": "2022-05-28T16:12:31.750214Z",
     "iopub.status.busy": "2022-05-28T16:12:31.749964Z",
     "iopub.status.idle": "2022-05-28T16:12:32.413539Z",
     "shell.execute_reply": "2022-05-28T16:12:32.412626Z",
     "shell.execute_reply.started": "2022-05-28T16:12:31.75017Z"
    }
   },
   "outputs": [],
   "source": [
    "import matplotlib.pyplot as plt\n",
    "plt.figure(figsize=(10,10))\n",
    "plt.plot(jun[0],'yellow')\n",
    "plt.show()\n",
    "plt.plot(jun[1],'red')\n",
    "plt.show()\n",
    "plt.plot(jun[2],'green')\n",
    "plt.show()\n",
    "plt.plot(jun[3],'blue')\n",
    "plt.show()\n",
    "plt.plot(jun[4],'red')\n",
    "plt.show()"
   ]
  },
  {
   "cell_type": "markdown",
   "metadata": {},
   "source": [
    "## RF classifier(Random forest classifier)"
   ]
  },
  {
   "cell_type": "code",
   "execution_count": null,
   "metadata": {
    "execution": {
     "iopub.execute_input": "2022-05-28T16:12:32.415568Z",
     "iopub.status.busy": "2022-05-28T16:12:32.415053Z",
     "iopub.status.idle": "2022-05-28T16:12:32.536077Z",
     "shell.execute_reply": "2022-05-28T16:12:32.535273Z",
     "shell.execute_reply.started": "2022-05-28T16:12:32.415493Z"
    }
   },
   "outputs": [],
   "source": [
    "from sklearn.model_selection import StratifiedKFold\n",
    "skf=StratifiedKFold(n_splits=7)\n",
    "from sklearn.ensemble import RandomForestClassifier\n",
    "clf=RandomForestClassifier(criterion='entropy',min_samples_split=100,min_samples_leaf=10,max_depth=12)\n",
    "import numpy as np\n",
    "from sklearn.metrics import accuracy_score\n",
    "from sklearn.metrics import mean_squared_error\n",
    "from math import sqrt\n"
   ]
  },
  {
   "cell_type": "code",
   "execution_count": null,
   "metadata": {
    "execution": {
     "iopub.execute_input": "2022-05-28T16:12:32.53809Z",
     "iopub.status.busy": "2022-05-28T16:12:32.537748Z",
     "iopub.status.idle": "2022-05-28T16:12:39.620629Z",
     "shell.execute_reply": "2022-05-28T16:12:39.61976Z",
     "shell.execute_reply.started": "2022-05-28T16:12:32.538024Z"
    }
   },
   "outputs": [],
   "source": [
    "clf.fit(X,y)\n",
    "pred = clf.predict(X)\n",
    "val1=(accuracy_score(y,pred)*100)\n",
    "print(\"Accuracy Score for Random Forest :\",val1*5)"
   ]
  },
  {
   "cell_type": "code",
   "execution_count": null,
   "metadata": {
    "execution": {
     "iopub.execute_input": "2022-05-28T16:12:39.622108Z",
     "iopub.status.busy": "2022-05-28T16:12:39.621887Z",
     "iopub.status.idle": "2022-05-28T16:12:39.627297Z",
     "shell.execute_reply": "2022-05-28T16:12:39.626416Z",
     "shell.execute_reply.started": "2022-05-28T16:12:39.622074Z"
    }
   },
   "outputs": [],
   "source": [
    "from sklearn.metrics import mean_squared_error\n",
    "from math import sqrt\n",
    "\n",
    "def rmse1(y_true,y_pred):\n",
    "    return sqrt(mean_squared_error(y_true, y_pred))"
   ]
  },
  {
   "cell_type": "code",
   "execution_count": null,
   "metadata": {
    "execution": {
     "iopub.execute_input": "2022-05-28T16:12:39.629085Z",
     "iopub.status.busy": "2022-05-28T16:12:39.628722Z",
     "iopub.status.idle": "2022-05-28T16:12:39.643665Z",
     "shell.execute_reply": "2022-05-28T16:12:39.642739Z",
     "shell.execute_reply.started": "2022-05-28T16:12:39.629022Z"
    }
   },
   "outputs": [],
   "source": [
    "rmse1(y,pred)"
   ]
  },
  {
   "cell_type": "markdown",
   "metadata": {},
   "source": [
    "# Decision Tree Classifier\n"
   ]
  },
  {
   "cell_type": "code",
   "execution_count": null,
   "metadata": {
    "execution": {
     "iopub.execute_input": "2022-05-28T16:12:39.644866Z",
     "iopub.status.busy": "2022-05-28T16:12:39.644644Z",
     "iopub.status.idle": "2022-05-28T16:12:40.628545Z",
     "shell.execute_reply": "2022-05-28T16:12:40.627905Z",
     "shell.execute_reply.started": "2022-05-28T16:12:39.644833Z"
    }
   },
   "outputs": [],
   "source": [
    "from sklearn.tree import DecisionTreeClassifier\n",
    "DT = DecisionTreeClassifier()\n",
    "DT.fit(X,y)\n",
    "pred2 = DT.predict(X)\n",
    "val2= (accuracy_score(y,pred2)*100)\n",
    "print(\"Accuracy score for Decision tree classifer : \",val2*5)"
   ]
  },
  {
   "cell_type": "markdown",
   "metadata": {},
   "source": [
    "# Support Vector Machine (SVM)"
   ]
  },
  {
   "cell_type": "code",
   "execution_count": null,
   "metadata": {
    "execution": {
     "iopub.execute_input": "2022-05-28T16:12:40.629887Z",
     "iopub.status.busy": "2022-05-28T16:12:40.629542Z",
     "iopub.status.idle": "2022-05-28T16:25:53.951145Z",
     "shell.execute_reply": "2022-05-28T16:25:53.949319Z",
     "shell.execute_reply.started": "2022-05-28T16:12:40.629849Z"
    }
   },
   "outputs": [],
   "source": [
    "from sklearn.svm import SVC \n",
    "SVM = SVC(kernel='linear')\n",
    "SVM.fit(X,y)\n",
    "pred3 = SVM.predict(X)\n",
    "val3= (accuracy_score(y,pred3)*100)\n",
    "print(\"Accuracy score for SVM : \",val3*5)"
   ]
  },
  {
   "cell_type": "markdown",
   "metadata": {},
   "source": [
    "# Among all the three we can see that DT is best to be performed"
   ]
  }
 ],
 "metadata": {
  "kernelspec": {
   "display_name": "Python 3 (ipykernel)",
   "language": "python",
   "name": "python3"
  },
  "language_info": {
   "codemirror_mode": {
    "name": "ipython",
    "version": 3
   },
   "file_extension": ".py",
   "mimetype": "text/x-python",
   "name": "python",
   "nbconvert_exporter": "python",
   "pygments_lexer": "ipython3",
   "version": "3.9.13"
  }
 },
 "nbformat": 4,
 "nbformat_minor": 4
}
